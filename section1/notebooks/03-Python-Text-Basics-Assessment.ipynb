{
 "cells": [
  {
   "cell_type": "markdown",
   "metadata": {},
   "source": [
    "___\n",
    "\n",
    "<a href='http://www.pieriandata.com'> <img src='../Pierian_Data_Logo.png' /></a>\n",
    "___"
   ]
  },
  {
   "cell_type": "markdown",
   "metadata": {
    "collapsed": true,
    "jupyter": {
     "outputs_hidden": true
    }
   },
   "source": [
    "# Python Text Basics Assessment\n",
    "\n",
    "Welcome to your assessment! Complete the tasks described in bold below by typing the relevant code in the cells.<br>\n",
    "You can compare your answers to the Solutions notebook provided in this folder."
   ]
  },
  {
   "cell_type": "markdown",
   "metadata": {},
   "source": [
    "## f-Strings\n",
    "#### 1. Print an f-string that displays `NLP stands for Natural Language Processing` using the variables provided."
   ]
  },
  {
   "cell_type": "code",
   "execution_count": 2,
   "metadata": {},
   "outputs": [
    {
     "name": "stdout",
     "output_type": "stream",
     "text": [
      "NLP stands for Natural Language Processing\n"
     ]
    }
   ],
   "source": [
    "abbr = 'NLP'\n",
    "full_text = 'Natural Language Processing'\n",
    "\n",
    "# Enter your code here:\n",
    "\n",
    "print(f\"{abbr} stands for {full_text}\")"
   ]
  },
  {
   "cell_type": "markdown",
   "metadata": {},
   "source": [
    "## Files\n",
    "#### 2. Create a file in the current working directory called `contacts.txt` by running the cell below:"
   ]
  },
  {
   "cell_type": "code",
   "execution_count": 6,
   "metadata": {},
   "outputs": [
    {
     "name": "stdout",
     "output_type": "stream",
     "text": [
      "Overwriting contacts.txt\n"
     ]
    }
   ],
   "source": [
    "%%writefile contacts.txt\n",
    "First_Name Last_Name, Title, Extension, Email"
   ]
  },
  {
   "cell_type": "code",
   "execution_count": 3,
   "metadata": {},
   "outputs": [
    {
     "name": "stdout",
     "output_type": "stream",
     "text": [
      "Writing contacts.txt\n"
     ]
    }
   ],
   "source": [
    "%%writefile contacts.txt\n",
    "First_Name Last_Name, Titile, Extension, Email"
   ]
  },
  {
   "cell_type": "code",
   "execution_count": null,
   "metadata": {},
   "outputs": [],
   "source": []
  },
  {
   "cell_type": "markdown",
   "metadata": {},
   "source": [
    "#### 3. Open the file and use .read() to save the contents of the file to a string called `fields`.  Make sure the file is closed at the end."
   ]
  },
  {
   "cell_type": "code",
   "execution_count": 4,
   "metadata": {},
   "outputs": [
    {
     "data": {
      "text/plain": [
       "'First_Name Last_Name, Titile, Extension, Email\\n'"
      ]
     },
     "execution_count": 4,
     "metadata": {},
     "output_type": "execute_result"
    }
   ],
   "source": [
    "# Write your code here:\n",
    "\n",
    "with open(r'contacts.txt','r') as f:\n",
    "    fields=f.read()\n",
    "\n",
    "    \n",
    "# Run fields to see the contents of contacts.txt:\n",
    "fields"
   ]
  },
  {
   "cell_type": "markdown",
   "metadata": {},
   "source": [
    "## Working with PDF Files\n",
    "#### 4. Use PyPDF2 to open the file `Business_Proposal.pdf`. Extract the text of page 2."
   ]
  },
  {
   "cell_type": "code",
   "execution_count": 4,
   "metadata": {},
   "outputs": [
    {
     "name": "stdout",
     "output_type": "stream",
     "text": [
      "AUTHORS:\n",
      " \n",
      "Amy Baker, Finance Chair, x345, abaker@ourcompany.com\n",
      " \n",
      "Chris Donaldson, Accounting Dir., x621, cdonaldson@ourcompany.com\n",
      " \n",
      "Erin Freeman, Sr. VP, x879, efreeman@ourcompany.com\n",
      " \n",
      "\n"
     ]
    }
   ],
   "source": [
    "# Perform import\n",
    "\n",
    "import PyPDF2\n",
    "# Open the file as a binary object\n",
    "f=open('Business_Proposal.pdf','rb')\n",
    "\n",
    "# Use PyPDF2 to read the text of the file\n",
    "pdf=PyPDF2.PdfFileReader(f)\n",
    "\n",
    "# Get the text from page 2 (CHALLENGE: Do this in one step!)\n",
    "page_two_text = pdf.pages[2]\n",
    "\n",
    "\n",
    "\n",
    "# Close the file\n",
    "\n",
    "f.close()\n",
    "# Print the contents of page_two_text\n",
    "print(page_two_text)"
   ]
  },
  {
   "cell_type": "code",
   "execution_count": 13,
   "metadata": {},
   "outputs": [
    {
     "name": "stdout",
     "output_type": "stream",
     "text": [
      "2\n",
      "AUTHORS:  \n",
      "Amy Baker, Finance Chair, x345, abaker@ourcompany.com  \n",
      "Chris Donaldson, Accounting Dir., x621, cdonaldson@ourcompany.com  \n",
      "Erin Freeman, Sr. VP, x879, efreeman@ourcompany.com  \n"
     ]
    }
   ],
   "source": [
    "# write code here\n",
    "\n",
    "import PyPDF2\n",
    "# Open the file as a binary object\n",
    "f=open('Business_Proposal.pdf','rb')\n",
    "\n",
    "# Use PyPDF2 to read the text of the file\n",
    "pdf=PyPDF2.PdfReader(f)\n",
    "\n",
    "# Get the text from page 2 (CHALLENGE: Do this in one step!)\n",
    "# pdf.numPages\n",
    "print(len(pdf.pages))\n",
    "\n",
    "page_two_text = pdf.pages[1].extract_text()\n",
    "\n",
    "\n",
    "\n",
    "# # Close the file\n",
    "\n",
    "f.close()\n",
    "# # Print the contents of page_two_text\n",
    "print(page_two_text)"
   ]
  },
  {
   "cell_type": "markdown",
   "metadata": {},
   "source": [
    "#### 5. Open the file `contacts.txt` in append mode. Add the text of page 2 from above to `contacts.txt`.\n",
    "\n",
    "#### CHALLENGE: See if you can remove the word \"AUTHORS:\""
   ]
  },
  {
   "cell_type": "code",
   "execution_count": 19,
   "metadata": {},
   "outputs": [
    {
     "data": {
      "text/plain": [
       "''"
      ]
     },
     "execution_count": 19,
     "metadata": {},
     "output_type": "execute_result"
    }
   ],
   "source": [
    "# Simple Solution:\n",
    "file=open('contacts.txt','a+')\n",
    "file.write(page_two_text)\n",
    "# file.read()\n"
   ]
  },
  {
   "cell_type": "code",
   "execution_count": 21,
   "metadata": {},
   "outputs": [],
   "source": [
    "file.seek(0)\n",
    "file.read()\n",
    "file.close()"
   ]
  },
  {
   "cell_type": "code",
   "execution_count": 22,
   "metadata": {},
   "outputs": [
    {
     "data": {
      "text/plain": [
       "'First_Name Last_Name, Titile, Extension, Email\\nAUTHORS:  \\nAmy Baker, Finance Chair, x345, abaker@ourcompany.com  \\nChris Donaldson, Accounting Dir., x621, cdonaldson@ourcompany.com  \\nErin Freeman, Sr. VP, x879, efreeman@ourcompany.com  '"
      ]
     },
     "execution_count": 22,
     "metadata": {},
     "output_type": "execute_result"
    }
   ],
   "source": [
    "file=open('contacts.txt','r')\n",
    "text=file.read()\n",
    "text"
   ]
  },
  {
   "cell_type": "code",
   "execution_count": 23,
   "metadata": {},
   "outputs": [],
   "source": [
    "word_to_replace=text.replace('AUTHORS','')"
   ]
  },
  {
   "cell_type": "code",
   "execution_count": 26,
   "metadata": {},
   "outputs": [],
   "source": [
    "file.close()"
   ]
  },
  {
   "cell_type": "code",
   "execution_count": 31,
   "metadata": {},
   "outputs": [],
   "source": [
    "with open('contacts.txt','w+') as f:\n",
    "    f.write(word_to_replace)\n"
   ]
  },
  {
   "cell_type": "code",
   "execution_count": 32,
   "metadata": {},
   "outputs": [
    {
     "ename": "ValueError",
     "evalue": "I/O operation on closed file.",
     "output_type": "error",
     "traceback": [
      "\u001b[1;31m---------------------------------------------------------------------------\u001b[0m",
      "\u001b[1;31mValueError\u001b[0m                                Traceback (most recent call last)",
      "Cell \u001b[1;32mIn[32], line 1\u001b[0m\n\u001b[1;32m----> 1\u001b[0m \u001b[43mf\u001b[49m\u001b[38;5;241;43m.\u001b[39;49m\u001b[43mseek\u001b[49m\u001b[43m(\u001b[49m\u001b[38;5;241;43m0\u001b[39;49m\u001b[43m)\u001b[49m\n",
      "\u001b[1;31mValueError\u001b[0m: I/O operation on closed file."
     ]
    }
   ],
   "source": [
    "f.seek(0)"
   ]
  },
  {
   "cell_type": "code",
   "execution_count": 7,
   "metadata": {},
   "outputs": [
    {
     "name": "stdout",
     "output_type": "stream",
     "text": [
      "First_Name Last_Name, Title, Extension, Email\n",
      " \n",
      "Amy Baker, Finance Chair, x345, abaker@ourcompany.com\n",
      " \n",
      "Chris Donaldson, Accounting Dir., x621, cdonaldson@ourcompany.com\n",
      " \n",
      "Erin Freeman, Sr. VP, x879, efreeman@ourcompany.com\n",
      " \n",
      "\n"
     ]
    }
   ],
   "source": [
    "# CHALLENGE Solution (re-run the %%writefile cell above to obtain an unmodified contacts.txt file):\n",
    "\n",
    "\n",
    "\n"
   ]
  },
  {
   "cell_type": "markdown",
   "metadata": {},
   "source": [
    "## Regular Expressions\n",
    "#### 6. Using the `page_two_text` variable created above, extract any email addresses that were contained in the file `Business_Proposal.pdf`."
   ]
  },
  {
   "cell_type": "code",
   "execution_count": 34,
   "metadata": {},
   "outputs": [
    {
     "data": {
      "text/plain": [
       "['abaker@ourcompany.com',\n",
       " 'cdonaldson@ourcompany.com',\n",
       " 'efreeman@ourcompany.com']"
      ]
     },
     "execution_count": 34,
     "metadata": {},
     "output_type": "execute_result"
    }
   ],
   "source": [
    "import re\n",
    "\n",
    "# Enter your regex pattern here. This may take several tries!\n",
    "pattern = r\"\\w{6,}@\\w{7,}+.\\w{3}\"\n",
    "\n",
    "re.findall(pattern, page_two_text)"
   ]
  },
  {
   "cell_type": "markdown",
   "metadata": {},
   "source": [
    "### Great job!"
   ]
  }
 ],
 "metadata": {
  "kernelspec": {
   "display_name": "Python 3 (ipykernel)",
   "language": "python",
   "name": "python3"
  },
  "language_info": {
   "codemirror_mode": {
    "name": "ipython",
    "version": 3
   },
   "file_extension": ".py",
   "mimetype": "text/x-python",
   "name": "python",
   "nbconvert_exporter": "python",
   "pygments_lexer": "ipython3",
   "version": "3.12.6"
  }
 },
 "nbformat": 4,
 "nbformat_minor": 4
}
