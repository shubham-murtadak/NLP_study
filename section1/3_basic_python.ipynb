{
 "cells": [
  {
   "cell_type": "markdown",
   "id": "13435008-6470-4a1d-81b1-52f051b54d67",
   "metadata": {},
   "source": [
    "# Regular expression"
   ]
  },
  {
   "cell_type": "raw",
   "id": "eabfa709-a3d3-43a9-a1b3-d1d9f51dd59d",
   "metadata": {},
   "source": [
    "digit- \\d\n",
    "phone number -: r'\\d{3}-\\d{3}-\\d{4}'"
   ]
  },
  {
   "cell_type": "code",
   "execution_count": 12,
   "id": "79ea179d-0b40-4096-9c3c-a77f2264eb79",
   "metadata": {},
   "outputs": [],
   "source": [
    "import re"
   ]
  },
  {
   "cell_type": "markdown",
   "id": "475b22bc-ddea-4b27-8d7e-10374f2184c7",
   "metadata": {},
   "source": [
    "# 1.Search"
   ]
  },
  {
   "cell_type": "code",
   "execution_count": 4,
   "id": "9bf6ac4a-f903-46e3-bf1d-d278582ffeaa",
   "metadata": {},
   "outputs": [],
   "source": [
    "text=\"The phone number of the agent is 408-555-1234. Call soon !\""
   ]
  },
  {
   "cell_type": "code",
   "execution_count": 10,
   "id": "e7447651-2191-4851-9008-f314eaed7759",
   "metadata": {},
   "outputs": [
    {
     "name": "stdout",
     "output_type": "stream",
     "text": [
      "<re.Match object; span=(33, 45), match='408-555-1234'>\n"
     ]
    }
   ],
   "source": [
    "phone_number=re.search(r'\\d{3}-\\d{3}-\\d{4}',text)\n",
    "print(phone_number)"
   ]
  },
  {
   "cell_type": "code",
   "execution_count": 11,
   "id": "1657757d-9420-420e-82a5-d6d2f36926f1",
   "metadata": {},
   "outputs": [
    {
     "name": "stdout",
     "output_type": "stream",
     "text": [
      "<re.Match object; span=(4, 9), match='phone'>\n"
     ]
    }
   ],
   "source": [
    "pattern=\"phone\"\n",
    "my_match=re.search(pattern,text)\n",
    "print(my_match)"
   ]
  },
  {
   "cell_type": "markdown",
   "id": "845963bf-8e25-4df5-b813-e10dfaf3ede0",
   "metadata": {},
   "source": [
    "# 2. Findall()"
   ]
  },
  {
   "cell_type": "code",
   "execution_count": 14,
   "id": "7f98a3c8-ee18-46b9-b15a-629484d1750b",
   "metadata": {},
   "outputs": [
    {
     "data": {
      "text/plain": [
       "['phone', 'phone']"
      ]
     },
     "execution_count": 14,
     "metadata": {},
     "output_type": "execute_result"
    }
   ],
   "source": [
    "text=\"my phone is a new phone\"\n",
    "pattern=\"phone\"\n",
    "match=re.findall(pattern,text)\n",
    "match"
   ]
  },
  {
   "cell_type": "code",
   "execution_count": 20,
   "id": "39f398b3-1bec-4ef4-a930-2cfda17b4908",
   "metadata": {},
   "outputs": [],
   "source": [
    "# len(match)"
   ]
  },
  {
   "cell_type": "markdown",
   "id": "4bf9e75f-70a2-4cf7-b9b8-86eab571b761",
   "metadata": {},
   "source": [
    "# 3.Finditer()"
   ]
  },
  {
   "cell_type": "code",
   "execution_count": 22,
   "id": "f00d4016-2c65-4e33-8538-c9fc2d430982",
   "metadata": {},
   "outputs": [
    {
     "name": "stdout",
     "output_type": "stream",
     "text": [
      "(3, 8)\n",
      "(18, 23)\n"
     ]
    }
   ],
   "source": [
    "for match in re.finditer(pattern,text):\n",
    "    print(match.span())"
   ]
  },
  {
   "cell_type": "markdown",
   "id": "da2dc146-3cf3-4fdf-9668-39939a5efc2b",
   "metadata": {},
   "source": [
    "# Table"
   ]
  },
  {
   "cell_type": "raw",
   "id": "3844d2b8-f064-4114-8a4f-bba9101e0cb0",
   "metadata": {},
   "source": [
    "character           description         Example patter code          Example match\n",
    "\n",
    "\\d                  A digit              file_\\d\\d                    file_25\n",
    "\\w                  Alphanumeric         \\w-\\w\\w\\w                    A-b_1\n",
    "\\s                  whitespace           a\\sb\\sc                     a b c\n",
    "\\D                  A non digit          \\D\\D\\D                      ABC\n",
    "\\W                  Non -alphanumeric    \\W\\W\\W\\W                    *+=)\n",
    "\\S                  Non-whitespace        \\S\\S\\S\\S                    Yoyo"
   ]
  },
  {
   "cell_type": "code",
   "execution_count": 24,
   "id": "e5b4b13d-f6fe-454f-8a0f-df78bb6a99c9",
   "metadata": {},
   "outputs": [],
   "source": [
    "text=\"my phone number is 777-555-1234\""
   ]
  },
  {
   "cell_type": "code",
   "execution_count": 25,
   "id": "5a443bb1-1181-4f56-bb1d-9b1e1c6a2ca1",
   "metadata": {},
   "outputs": [],
   "source": [
    "pattern=r'\\d\\d\\d-\\d\\d\\d-\\d\\d\\d\\d'"
   ]
  },
  {
   "cell_type": "code",
   "execution_count": 27,
   "id": "20e544f8-6630-4433-8eb5-04ca5724e5ff",
   "metadata": {},
   "outputs": [],
   "source": [
    "phone_number=re.search(pattern,text)"
   ]
  },
  {
   "cell_type": "code",
   "execution_count": 28,
   "id": "6849c930-db4b-4341-945e-b54ad135c165",
   "metadata": {},
   "outputs": [
    {
     "data": {
      "text/plain": [
       "'777-555-1234'"
      ]
     },
     "execution_count": 28,
     "metadata": {},
     "output_type": "execute_result"
    }
   ],
   "source": [
    "phone_number.group()"
   ]
  },
  {
   "cell_type": "markdown",
   "id": "ead01423-4525-4631-8b6f-2afa9c1d645f",
   "metadata": {},
   "source": [
    "# Quantifiers"
   ]
  },
  {
   "cell_type": "raw",
   "id": "4bbb04ae-b034-4504-98fd-12c773e6eb43",
   "metadata": {},
   "source": [
    "character        Description \n",
    "+               Occurs one or more times\n",
    "{3}             Occurs exactly 3 times\n",
    "{2,4}           Occurs 2 to 4 times\n",
    "{3,}            Occurs 3 or more times\n",
    "*               Occurs 0 of more times\n",
    "?               Once or none"
   ]
  },
  {
   "cell_type": "code",
   "execution_count": 29,
   "id": "a2b21bcf-3d65-447e-9cb3-72a0881f3111",
   "metadata": {},
   "outputs": [],
   "source": [
    "pattern=r'\\d{3}-\\d{3}-\\d{4}'"
   ]
  },
  {
   "cell_type": "code",
   "execution_count": 31,
   "id": "bf116ca7-8b83-4f78-b7cc-339503b045d7",
   "metadata": {},
   "outputs": [],
   "source": [
    "my_match=re.search(pattern,text)"
   ]
  },
  {
   "cell_type": "code",
   "execution_count": 32,
   "id": "fb15f7c7-bb12-473b-9302-ec967b8cda56",
   "metadata": {},
   "outputs": [
    {
     "data": {
      "text/plain": [
       "'777-555-1234'"
      ]
     },
     "execution_count": 32,
     "metadata": {},
     "output_type": "execute_result"
    }
   ],
   "source": [
    "my_match.group()"
   ]
  },
  {
   "cell_type": "markdown",
   "id": "396cbd1e-8401-4107-bcf6-4a5c1cc81010",
   "metadata": {},
   "source": [
    "# Accessing individual group"
   ]
  },
  {
   "cell_type": "code",
   "execution_count": 33,
   "id": "3eb512e5-5ac1-441c-bb24-927e44d7c69b",
   "metadata": {},
   "outputs": [
    {
     "data": {
      "text/plain": [
       "'my phone number is 777-555-1234'"
      ]
     },
     "execution_count": 33,
     "metadata": {},
     "output_type": "execute_result"
    }
   ],
   "source": [
    "text"
   ]
  },
  {
   "cell_type": "code",
   "execution_count": 34,
   "id": "6bf1e4ce-4d40-4615-ba5b-66b28b6db480",
   "metadata": {},
   "outputs": [],
   "source": [
    "pattern=r\"(\\d{3})-(\\d{3})-(\\d{4})\""
   ]
  },
  {
   "cell_type": "code",
   "execution_count": 35,
   "id": "30e18a73-6e32-43af-81b8-a4da45d0d83e",
   "metadata": {},
   "outputs": [],
   "source": [
    "mymatch=re.search(pattern,text)"
   ]
  },
  {
   "cell_type": "code",
   "execution_count": 37,
   "id": "5ff6983b-5bee-4f7c-b5b4-fd8bed7a78eb",
   "metadata": {},
   "outputs": [
    {
     "name": "stdout",
     "output_type": "stream",
     "text": [
      "777\n",
      "555\n",
      "1234\n"
     ]
    }
   ],
   "source": [
    "for i in range(1,4):\n",
    "    print(mymatch.group(i))"
   ]
  },
  {
   "cell_type": "markdown",
   "id": "71f6c30a-0851-441a-853e-e13bc982bc45",
   "metadata": {},
   "source": [
    "# pipe operator"
   ]
  },
  {
   "cell_type": "code",
   "execution_count": 38,
   "id": "cc86d9c6-24d4-424e-bc96-c248b1cdc905",
   "metadata": {},
   "outputs": [
    {
     "data": {
      "text/plain": [
       "<re.Match object; span=(5, 8), match='man'>"
      ]
     },
     "execution_count": 38,
     "metadata": {},
     "output_type": "execute_result"
    }
   ],
   "source": [
    "re.search(r\"man|woman\",\"This man was here\")"
   ]
  },
  {
   "cell_type": "code",
   "execution_count": 39,
   "id": "493543d8-a1d7-4f51-ae02-be8fff41dd15",
   "metadata": {},
   "outputs": [
    {
     "data": {
      "text/plain": [
       "<re.Match object; span=(8, 13), match='woman'>"
      ]
     },
     "execution_count": 39,
     "metadata": {},
     "output_type": "execute_result"
    }
   ],
   "source": [
    "re.search(r\"man|woman\",\"This is woman was here\")"
   ]
  },
  {
   "cell_type": "markdown",
   "id": "4cb145e0-2c1e-4390-866a-c44dfece62e3",
   "metadata": {},
   "source": [
    "# wildcard"
   ]
  },
  {
   "cell_type": "raw",
   "id": "211e90b3-7f58-49d1-91ad-07a7ba284c56",
   "metadata": {},
   "source": [
    ". -> \n",
    "^->startwith\n",
    "$ -> endswith"
   ]
  },
  {
   "cell_type": "code",
   "execution_count": 41,
   "id": "973311e1-02b8-4ee6-a728-5099f450eb6b",
   "metadata": {},
   "outputs": [
    {
     "data": {
      "text/plain": [
       "['cat', 'hat', 'sat', 'lat']"
      ]
     },
     "execution_count": 41,
     "metadata": {},
     "output_type": "execute_result"
    }
   ],
   "source": [
    "re.findall(r\".at\",\"The cat in the hat sat splat\")"
   ]
  },
  {
   "cell_type": "code",
   "execution_count": 44,
   "id": "a9408f01-026d-4d52-a705-76c82a657a7d",
   "metadata": {},
   "outputs": [
    {
     "data": {
      "text/plain": [
       "[' cat', ' hat', ' sat', 'plat']"
      ]
     },
     "execution_count": 44,
     "metadata": {},
     "output_type": "execute_result"
    }
   ],
   "source": [
    "re.findall(r\"..at\",\"The cat in the hat sat splat\")"
   ]
  },
  {
   "cell_type": "code",
   "execution_count": 45,
   "id": "9877372b-27b9-49ef-bd9d-cb5b126c31c6",
   "metadata": {},
   "outputs": [
    {
     "data": {
      "text/plain": [
       "['2']"
      ]
     },
     "execution_count": 45,
     "metadata": {},
     "output_type": "execute_result"
    }
   ],
   "source": [
    "re.findall(r\"\\d$\",\"This ends with number 2\")"
   ]
  },
  {
   "cell_type": "code",
   "execution_count": 46,
   "id": "80ad34ea-80ac-4503-8bf7-1d5f1f46319d",
   "metadata": {},
   "outputs": [
    {
     "data": {
      "text/plain": [
       "['1']"
      ]
     },
     "execution_count": 46,
     "metadata": {},
     "output_type": "execute_result"
    }
   ],
   "source": [
    "re.findall(r\"^\\d\",\"1 is the loneliest number\")"
   ]
  },
  {
   "cell_type": "code",
   "execution_count": 47,
   "id": "f5de3493-e273-4352-953e-77fdc16ca7e4",
   "metadata": {},
   "outputs": [],
   "source": [
    "phrase=\"there are 3 numbers 34 inside 5 this sentence\""
   ]
  },
  {
   "cell_type": "code",
   "execution_count": 49,
   "id": "10f0c452-2c8c-4856-b543-03f825a73523",
   "metadata": {},
   "outputs": [
    {
     "data": {
      "text/plain": [
       "['there are ', ' numbers ', ' inside ', ' this sentence']"
      ]
     },
     "execution_count": 49,
     "metadata": {},
     "output_type": "execute_result"
    }
   ],
   "source": [
    "re.findall(r\"[^\\d]+\",phrase)"
   ]
  },
  {
   "cell_type": "code",
   "execution_count": 50,
   "id": "3dc61b2f-ef11-4e65-9c00-a9f9379a25e4",
   "metadata": {},
   "outputs": [],
   "source": [
    "test_phrase=\"This is a string! but it has punctuations. How to remote it ?\""
   ]
  },
  {
   "cell_type": "code",
   "execution_count": 53,
   "id": "debfe5b0-a201-4279-b557-daae6d4d4cbb",
   "metadata": {},
   "outputs": [],
   "source": [
    "mylist=re.findall(r\"[^!.? ]+\",test_phrase)"
   ]
  },
  {
   "cell_type": "code",
   "execution_count": 54,
   "id": "9e4e1f86-d7f5-4f67-bbe0-ee58cd126d0b",
   "metadata": {},
   "outputs": [
    {
     "data": {
      "text/plain": [
       "'This is a string but it has punctuations How to remote it'"
      ]
     },
     "execution_count": 54,
     "metadata": {},
     "output_type": "execute_result"
    }
   ],
   "source": [
    "' '.join(mylist)"
   ]
  },
  {
   "cell_type": "code",
   "execution_count": 55,
   "id": "e814cd93-af43-4cbf-bb14-55122af13e20",
   "metadata": {},
   "outputs": [],
   "source": [
    "text=\"Only find the hyphen-words.were are the lon-ish dash words?\""
   ]
  },
  {
   "cell_type": "code",
   "execution_count": 60,
   "id": "165622dd-d639-4602-8030-1a5309a486b7",
   "metadata": {},
   "outputs": [
    {
     "data": {
      "text/plain": [
       "['hyphen-words', 'lon-ish']"
      ]
     },
     "execution_count": 60,
     "metadata": {},
     "output_type": "execute_result"
    }
   ],
   "source": [
    "re.findall(r'[\\w]+-[\\w]+',text)"
   ]
  },
  {
   "cell_type": "code",
   "execution_count": null,
   "id": "4705d405-accb-43f7-988c-7b911c9fcf19",
   "metadata": {},
   "outputs": [],
   "source": []
  }
 ],
 "metadata": {
  "kernelspec": {
   "display_name": "myenv",
   "language": "python",
   "name": "myenv"
  },
  "language_info": {
   "codemirror_mode": {
    "name": "ipython",
    "version": 3
   },
   "file_extension": ".py",
   "mimetype": "text/x-python",
   "name": "python",
   "nbconvert_exporter": "python",
   "pygments_lexer": "ipython3",
   "version": "3.12.6"
  }
 },
 "nbformat": 4,
 "nbformat_minor": 5
}
