{
 "cells": [
  {
   "cell_type": "code",
   "execution_count": 1,
   "id": "6a698e02-790d-4e77-a301-9e4e85205a1c",
   "metadata": {},
   "outputs": [
    {
     "name": "stdout",
     "output_type": "stream",
     "text": [
      "my name is shubham\n"
     ]
    }
   ],
   "source": [
    "person=\"shubham\"\n",
    "print(\"my name is {}\".format(person))"
   ]
  },
  {
   "cell_type": "markdown",
   "id": "507b1d7e-4af9-4821-bf35-e229a866b3ba",
   "metadata": {},
   "source": [
    "# Fstring formating"
   ]
  },
  {
   "cell_type": "code",
   "execution_count": 2,
   "id": "c13f2029-7297-432b-9a57-0d897eec0f80",
   "metadata": {},
   "outputs": [
    {
     "name": "stdout",
     "output_type": "stream",
     "text": [
      "my name is shubham\n"
     ]
    }
   ],
   "source": [
    "print(f\"my name is {person}\")"
   ]
  },
  {
   "cell_type": "code",
   "execution_count": 3,
   "id": "408a7326-5bb6-4b44-a0ce-5b418c578b60",
   "metadata": {},
   "outputs": [],
   "source": [
    "from datetime import datetime"
   ]
  },
  {
   "cell_type": "code",
   "execution_count": 5,
   "id": "f82ef0a7-d401-4c55-a4ed-1b68c8164c4e",
   "metadata": {},
   "outputs": [],
   "source": [
    "today=datetime.now()"
   ]
  },
  {
   "cell_type": "code",
   "execution_count": 6,
   "id": "979e79ae-efad-409b-bd4a-3c7bac11ec73",
   "metadata": {},
   "outputs": [
    {
     "data": {
      "text/plain": [
       "datetime.datetime(2024, 9, 19, 14, 30, 56, 880621)"
      ]
     },
     "execution_count": 6,
     "metadata": {},
     "output_type": "execute_result"
    }
   ],
   "source": [
    "today"
   ]
  },
  {
   "cell_type": "code",
   "execution_count": 13,
   "id": "e3174619-c619-4a8e-8f93-edb7b61d947b",
   "metadata": {},
   "outputs": [
    {
     "data": {
      "text/plain": [
       "'2024-09-19 14:30-56'"
      ]
     },
     "execution_count": 13,
     "metadata": {},
     "output_type": "execute_result"
    }
   ],
   "source": [
    "today.strftime('%Y-%m-%d %H:%M-%S')"
   ]
  },
  {
   "cell_type": "markdown",
   "id": "5d8a61b6-78a7-4b7f-83cb-69030153a082",
   "metadata": {},
   "source": [
    "# Handling text files using python"
   ]
  },
  {
   "cell_type": "markdown",
   "id": "9acf36a7-f9f6-488d-8d86-e820e3a0ce1c",
   "metadata": {},
   "source": [
    "## 1.Creating text file "
   ]
  },
  {
   "cell_type": "code",
   "execution_count": 15,
   "id": "b414ee53-a2c7-4fe1-a597-28585fbca316",
   "metadata": {},
   "outputs": [
    {
     "name": "stdout",
     "output_type": "stream",
     "text": [
      "Writing test.txt\n"
     ]
    }
   ],
   "source": [
    "%%writefile test.txt\n",
    "Hello, this is shubham murtadak.\n",
    "i am from pune .\n",
    "i am data scientist\n",
    "i love data science."
   ]
  },
  {
   "cell_type": "code",
   "execution_count": 18,
   "id": "842baa14-f449-4082-acf7-45084cae998c",
   "metadata": {},
   "outputs": [
    {
     "data": {
      "text/plain": [
       "'D:\\\\personal\\\\NLP_COURSE\\\\code_practice'"
      ]
     },
     "execution_count": 18,
     "metadata": {},
     "output_type": "execute_result"
    }
   ],
   "source": [
    "pwd"
   ]
  },
  {
   "cell_type": "code",
   "execution_count": 16,
   "id": "d3a1c05d-f9e4-44a7-84a7-476c418a9917",
   "metadata": {},
   "outputs": [],
   "source": [
    "myfile=open('test.txt')"
   ]
  },
  {
   "cell_type": "code",
   "execution_count": 17,
   "id": "4add8259-4dd6-42d2-981f-3a0e44bb0ca0",
   "metadata": {},
   "outputs": [
    {
     "data": {
      "text/plain": [
       "<_io.TextIOWrapper name='test.txt' mode='r' encoding='cp1252'>"
      ]
     },
     "execution_count": 17,
     "metadata": {},
     "output_type": "execute_result"
    }
   ],
   "source": [
    "myfile"
   ]
  },
  {
   "cell_type": "markdown",
   "id": "62da617a-0a31-4b30-b3b6-664d1bc1e83a",
   "metadata": {},
   "source": [
    "## Reading file "
   ]
  },
  {
   "cell_type": "code",
   "execution_count": 19,
   "id": "0b8a7a25-78e7-4e52-88bc-9e04fb802ffc",
   "metadata": {},
   "outputs": [
    {
     "data": {
      "text/plain": [
       "'Hello, this is shubham murtadak.\\ni am from pune .\\ni am data scientist\\ni love data science.\\n'"
      ]
     },
     "execution_count": 19,
     "metadata": {},
     "output_type": "execute_result"
    }
   ],
   "source": [
    "myfile.read()"
   ]
  },
  {
   "cell_type": "code",
   "execution_count": 20,
   "id": "d7f66e72-9781-4e15-a3dd-e141ae5eac25",
   "metadata": {},
   "outputs": [
    {
     "data": {
      "text/plain": [
       "''"
      ]
     },
     "execution_count": 20,
     "metadata": {},
     "output_type": "execute_result"
    }
   ],
   "source": [
    "myfile.read()"
   ]
  },
  {
   "cell_type": "raw",
   "id": "767282dc-9c74-40bb-8705-91d7f8b3dff4",
   "metadata": {},
   "source": [
    "It happen because now curser is at end position of text file.\n",
    "to reset it at start of file use seek command"
   ]
  },
  {
   "cell_type": "code",
   "execution_count": 24,
   "id": "0d4cbaf1-4087-4639-8ecc-094155f4f169",
   "metadata": {},
   "outputs": [
    {
     "data": {
      "text/plain": [
       "0"
      ]
     },
     "execution_count": 24,
     "metadata": {},
     "output_type": "execute_result"
    }
   ],
   "source": [
    "myfile.seek(0)"
   ]
  },
  {
   "cell_type": "code",
   "execution_count": 25,
   "id": "a57923ed-67b1-4818-a345-129fc85bf680",
   "metadata": {},
   "outputs": [
    {
     "data": {
      "text/plain": [
       "'Hello, this is shubham murtadak.\\ni am from pune .\\ni am data scientist\\ni love data science.\\n'"
      ]
     },
     "execution_count": 25,
     "metadata": {},
     "output_type": "execute_result"
    }
   ],
   "source": [
    "myfile.read()"
   ]
  },
  {
   "cell_type": "code",
   "execution_count": 26,
   "id": "62a0e3e2-c725-4f04-8eca-6eba8f28957e",
   "metadata": {},
   "outputs": [
    {
     "data": {
      "text/plain": [
       "0"
      ]
     },
     "execution_count": 26,
     "metadata": {},
     "output_type": "execute_result"
    }
   ],
   "source": [
    "myfile.seek(0)"
   ]
  },
  {
   "cell_type": "code",
   "execution_count": 27,
   "id": "82759021-5e85-44c0-939d-e47e77404cc1",
   "metadata": {},
   "outputs": [],
   "source": [
    "content=myfile.read()"
   ]
  },
  {
   "cell_type": "code",
   "execution_count": 28,
   "id": "3a0addc5-d633-4392-8836-5143bfd4ea37",
   "metadata": {},
   "outputs": [
    {
     "name": "stdout",
     "output_type": "stream",
     "text": [
      "Hello, this is shubham murtadak.\n",
      "i am from pune .\n",
      "i am data scientist\n",
      "i love data science.\n",
      "\n"
     ]
    }
   ],
   "source": [
    "print(content)"
   ]
  },
  {
   "cell_type": "code",
   "execution_count": 29,
   "id": "7afaf797-ee7f-41e2-ac43-8aa88b67167b",
   "metadata": {},
   "outputs": [],
   "source": [
    "myfile.close()"
   ]
  },
  {
   "cell_type": "code",
   "execution_count": 30,
   "id": "c993394b-e0ba-46a5-bb23-8a4ec4de1483",
   "metadata": {},
   "outputs": [],
   "source": [
    "myfile=open('test.txt')"
   ]
  },
  {
   "cell_type": "code",
   "execution_count": 31,
   "id": "f15355bb-3955-4475-b360-1b0a4897d530",
   "metadata": {},
   "outputs": [
    {
     "data": {
      "text/plain": [
       "['Hello, this is shubham murtadak.\\n',\n",
       " 'i am from pune .\\n',\n",
       " 'i am data scientist\\n',\n",
       " 'i love data science.\\n']"
      ]
     },
     "execution_count": 31,
     "metadata": {},
     "output_type": "execute_result"
    }
   ],
   "source": [
    "myfile.readlines()"
   ]
  },
  {
   "cell_type": "code",
   "execution_count": 32,
   "id": "a0bb1250-22f6-40ba-a2e4-95eaabb463dc",
   "metadata": {},
   "outputs": [
    {
     "data": {
      "text/plain": [
       "0"
      ]
     },
     "execution_count": 32,
     "metadata": {},
     "output_type": "execute_result"
    }
   ],
   "source": [
    "myfile.seek(0)"
   ]
  },
  {
   "cell_type": "code",
   "execution_count": 33,
   "id": "51d08e38-c871-4b3f-a295-ebcc81015092",
   "metadata": {},
   "outputs": [],
   "source": [
    "mylines=myfile.readlines()"
   ]
  },
  {
   "cell_type": "code",
   "execution_count": 39,
   "id": "14186524-4162-480f-9ba0-a93dbb2bce44",
   "metadata": {},
   "outputs": [
    {
     "name": "stdout",
     "output_type": "stream",
     "text": [
      "Hello, this is shubham murtadak.\n",
      "i am from pune .\n",
      "i am data scientist\n",
      "i love data science.\n"
     ]
    }
   ],
   "source": [
    "for line in mylines:\n",
    "    print(line.split('\\n')[0])"
   ]
  },
  {
   "cell_type": "markdown",
   "id": "7c7f726f-5c51-4947-a1db-edb441641672",
   "metadata": {},
   "source": [
    "# Wrting to file"
   ]
  },
  {
   "cell_type": "code",
   "execution_count": 41,
   "id": "46278ced-6788-4a29-9846-9d5967c063da",
   "metadata": {},
   "outputs": [],
   "source": [
    "myfile=open('test.txt','w+')"
   ]
  },
  {
   "cell_type": "code",
   "execution_count": 42,
   "id": "2843bf24-7e8d-42ba-8d97-25a6a60d899b",
   "metadata": {},
   "outputs": [
    {
     "data": {
      "text/plain": [
       "''"
      ]
     },
     "execution_count": 42,
     "metadata": {},
     "output_type": "execute_result"
    }
   ],
   "source": [
    "myfile.read()"
   ]
  },
  {
   "cell_type": "code",
   "execution_count": 43,
   "id": "d805f115-9a4f-4080-a86a-2836054e4f13",
   "metadata": {},
   "outputs": [
    {
     "data": {
      "text/plain": [
       "17"
      ]
     },
     "execution_count": 43,
     "metadata": {},
     "output_type": "execute_result"
    }
   ],
   "source": [
    "myfile.write(\"My brand new text\")"
   ]
  },
  {
   "cell_type": "code",
   "execution_count": 44,
   "id": "356e5b0e-ebc8-4029-8456-d9858270c135",
   "metadata": {},
   "outputs": [
    {
     "data": {
      "text/plain": [
       "0"
      ]
     },
     "execution_count": 44,
     "metadata": {},
     "output_type": "execute_result"
    }
   ],
   "source": [
    "myfile.seek(0)"
   ]
  },
  {
   "cell_type": "code",
   "execution_count": 45,
   "id": "67a6475f-f1c6-4f84-8704-519b4492091b",
   "metadata": {},
   "outputs": [
    {
     "data": {
      "text/plain": [
       "'My brand new text'"
      ]
     },
     "execution_count": 45,
     "metadata": {},
     "output_type": "execute_result"
    }
   ],
   "source": [
    "myfile.read()"
   ]
  },
  {
   "cell_type": "markdown",
   "id": "4b711223-77e0-41ae-b686-6b82494a4def",
   "metadata": {},
   "source": [
    "# Append method"
   ]
  },
  {
   "cell_type": "raw",
   "id": "ccf22484-0d89-491d-993b-ff24a8a98ce9",
   "metadata": {},
   "source": [
    "keeping old info and adding new info"
   ]
  },
  {
   "cell_type": "code",
   "execution_count": 55,
   "id": "1bebd06b-936e-437f-a7d1-eeb1ef55c48f",
   "metadata": {},
   "outputs": [],
   "source": [
    "myfile=open('whoops.txt','a+')"
   ]
  },
  {
   "cell_type": "code",
   "execution_count": 56,
   "id": "4530c0a7-d1e9-4380-9680-d55f01209f6a",
   "metadata": {},
   "outputs": [
    {
     "data": {
      "text/plain": [
       "27"
      ]
     },
     "execution_count": 56,
     "metadata": {},
     "output_type": "execute_result"
    }
   ],
   "source": [
    "myfile.write('My first line in A+ Opening')"
   ]
  },
  {
   "cell_type": "code",
   "execution_count": 57,
   "id": "637846f5-b506-45c2-a0dc-cccdeca1fe7d",
   "metadata": {},
   "outputs": [],
   "source": [
    "myfile.close()"
   ]
  },
  {
   "cell_type": "code",
   "execution_count": 58,
   "id": "130a813b-c3d2-4849-a15b-74101ee64f6c",
   "metadata": {},
   "outputs": [],
   "source": [
    "newfile=open('whoops.txt')"
   ]
  },
  {
   "cell_type": "code",
   "execution_count": 59,
   "id": "1e9ce79f-1b8e-44c5-b7ca-c133c96b57a7",
   "metadata": {},
   "outputs": [
    {
     "data": {
      "text/plain": [
       "'My first line in A+ OpeningMy first line in A+ OpeningMy first line in A+ Opening'"
      ]
     },
     "execution_count": 59,
     "metadata": {},
     "output_type": "execute_result"
    }
   ],
   "source": [
    "newfile.read()"
   ]
  },
  {
   "cell_type": "code",
   "execution_count": 60,
   "id": "743522f9-e748-42f6-aa64-a2c7fd2be72a",
   "metadata": {},
   "outputs": [],
   "source": [
    "newfile.close()"
   ]
  },
  {
   "cell_type": "code",
   "execution_count": 61,
   "id": "b3e1175f-6282-4d70-a0a6-3d92822d17c9",
   "metadata": {},
   "outputs": [],
   "source": [
    "myfile=open('whoops.txt',mode='a+')"
   ]
  },
  {
   "cell_type": "code",
   "execution_count": 62,
   "id": "97fcada3-9314-4a2d-8a8c-46be7ce7c52a",
   "metadata": {},
   "outputs": [
    {
     "data": {
      "text/plain": [
       "45"
      ]
     },
     "execution_count": 62,
     "metadata": {},
     "output_type": "execute_result"
    }
   ],
   "source": [
    "myfile.write('This is an added line ,because i used A+ Mode')"
   ]
  },
  {
   "cell_type": "code",
   "execution_count": 64,
   "id": "260c628e-e148-4240-ae37-269ef8443036",
   "metadata": {},
   "outputs": [
    {
     "data": {
      "text/plain": [
       "0"
      ]
     },
     "execution_count": 64,
     "metadata": {},
     "output_type": "execute_result"
    }
   ],
   "source": [
    "myfile.seek(0)"
   ]
  },
  {
   "cell_type": "code",
   "execution_count": 65,
   "id": "adaf6166-c543-4171-85a2-83476a2d6a7f",
   "metadata": {},
   "outputs": [
    {
     "data": {
      "text/plain": [
       "'My first line in A+ OpeningMy first line in A+ OpeningMy first line in A+ OpeningThis is an added line ,because i used A+ Mode'"
      ]
     },
     "execution_count": 65,
     "metadata": {},
     "output_type": "execute_result"
    }
   ],
   "source": [
    "myfile.read()"
   ]
  },
  {
   "cell_type": "code",
   "execution_count": 66,
   "id": "d1400c8d-f13d-4c91-ba51-029c112409c3",
   "metadata": {},
   "outputs": [
    {
     "data": {
      "text/plain": [
       "36"
      ]
     },
     "execution_count": 66,
     "metadata": {},
     "output_type": "execute_result"
    }
   ],
   "source": [
    "myfile.write('\\n This is second line added using +a')"
   ]
  },
  {
   "cell_type": "code",
   "execution_count": 67,
   "id": "ee00cff2-a3ac-4bc0-a20f-e718c30c5ada",
   "metadata": {},
   "outputs": [
    {
     "data": {
      "text/plain": [
       "0"
      ]
     },
     "execution_count": 67,
     "metadata": {},
     "output_type": "execute_result"
    }
   ],
   "source": [
    "myfile.seek(0)"
   ]
  },
  {
   "cell_type": "code",
   "execution_count": 68,
   "id": "299aa0d8-ddbe-43bd-9258-7e2a8a7fd322",
   "metadata": {},
   "outputs": [
    {
     "data": {
      "text/plain": [
       "'My first line in A+ OpeningMy first line in A+ OpeningMy first line in A+ OpeningThis is an added line ,because i used A+ Mode\\n This is second line added using +a'"
      ]
     },
     "execution_count": 68,
     "metadata": {},
     "output_type": "execute_result"
    }
   ],
   "source": [
    "myfile.read()\n"
   ]
  },
  {
   "cell_type": "markdown",
   "id": "69c4ffba-54f8-4728-ad1f-987123d83b90",
   "metadata": {},
   "source": [
    "# Context Manager"
   ]
  },
  {
   "cell_type": "code",
   "execution_count": 69,
   "id": "c7772e47-c7b6-4fb6-9ab3-340ad108c693",
   "metadata": {},
   "outputs": [],
   "source": [
    "with open('whoops.txt','r') as mynewfile:\n",
    "    myvariable=mynewfile.readlines()"
   ]
  },
  {
   "cell_type": "code",
   "execution_count": 71,
   "id": "2d809962-301a-422a-a139-e81d71b2e504",
   "metadata": {},
   "outputs": [
    {
     "data": {
      "text/plain": [
       "['My first line in A+ OpeningMy first line in A+ OpeningMy first line in A+ OpeningThis is an added line ,because i used A+ Mode\\n',\n",
       " ' This is second line added using +a']"
      ]
     },
     "execution_count": 71,
     "metadata": {},
     "output_type": "execute_result"
    }
   ],
   "source": [
    "myvariable"
   ]
  },
  {
   "cell_type": "code",
   "execution_count": null,
   "id": "f74286ee-2b44-458d-a94a-0d91fbc6e85f",
   "metadata": {},
   "outputs": [],
   "source": []
  }
 ],
 "metadata": {
  "kernelspec": {
   "display_name": "myenv",
   "language": "python",
   "name": "myenv"
  },
  "language_info": {
   "codemirror_mode": {
    "name": "ipython",
    "version": 3
   },
   "file_extension": ".py",
   "mimetype": "text/x-python",
   "name": "python",
   "nbconvert_exporter": "python",
   "pygments_lexer": "ipython3",
   "version": "3.12.6"
  }
 },
 "nbformat": 4,
 "nbformat_minor": 5
}
